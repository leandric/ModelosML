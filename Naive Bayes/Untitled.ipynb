{
 "cells": [
  {
   "cell_type": "markdown",
   "id": "6d10a572-d83c-477b-9c2a-ff58b305ceb2",
   "metadata": {},
   "source": [
    "# Imports"
   ]
  },
  {
   "cell_type": "code",
   "execution_count": 1,
   "id": "a398fee5-2dff-43b8-aaba-a9c808522939",
   "metadata": {},
   "outputs": [],
   "source": [
    "import pandas as pd"
   ]
  },
  {
   "cell_type": "markdown",
   "id": "86a41b28-2566-45ff-a0ba-a6b06bebdc2c",
   "metadata": {},
   "source": [
    "# Carga de dados"
   ]
  },
  {
   "cell_type": "code",
   "execution_count": null,
   "id": "3adfaf02-20ea-4be5-9e8d-407ff3bbb905",
   "metadata": {},
   "outputs": [],
   "source": []
  }
 ],
 "metadata": {
  "kernelspec": {
   "display_name": "Python 3 (ipykernel)",
   "language": "python",
   "name": "python3"
  },
  "language_info": {
   "codemirror_mode": {
    "name": "ipython",
    "version": 3
   },
   "file_extension": ".py",
   "mimetype": "text/x-python",
   "name": "python",
   "nbconvert_exporter": "python",
   "pygments_lexer": "ipython3",
   "version": "3.12.2"
  }
 },
 "nbformat": 4,
 "nbformat_minor": 5
}
