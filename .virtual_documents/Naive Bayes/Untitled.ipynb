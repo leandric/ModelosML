


import pandas as pd
from sklearn.preprocessing import LabelEncoder
from sklearn.naive_bayes import GaussianNB
from sklearn.model_selection import train_test_split

import warnings
warnings.filterwarnings('ignore')





df_risco_credito = pd.read_csv('https://raw.githubusercontent.com/leandric/ModelosML/refs/heads/main/Bases%20de%20dados/risco_credito.csv')


df_risco_credito





X = df_risco_credito.iloc[:,0:4].values
X


y = df_risco_credito.iloc[:, 4].values
y





# Uma instância para cada atributo categórico
label_historia = LabelEncoder()
label_divida = LabelEncoder()
label_garantias = LabelEncoder()
label_renda = LabelEncoder()

X[:, 0] = label_historia.fit_transform(X[:, 0])
X[:, 1] = label_divida.fit_transform(X[:, 1])
X[:, 2] = label_garantias.fit_transform(X[:, 2])
X[:, 3] = label_renda.fit_transform(X[:, 3])

X


X_train, X_test, y_train, y_test = train_test_split(X, y, test_size=0.2, random_state=42)





modelo = GaussianNB()


modelo.fit(X_train, y_train)


modelo.predict(X_test)


y_test





from sklearn.metrics import accuracy_score, precision_score, recall_score, f1_score, confusion_matrix

y_pred = modelo.predict(X_test)

# Acurácia
accuracy = accuracy_score(y_test, y_pred)
print(f'Acurácia: {accuracy}')

# Precision
precision = precision_score(y_test, y_pred, average='weighted')  # 'weighted' para multiclasse
print(f'Precision: {precision}')

# Recall
recall = recall_score(y_test, y_pred, average='weighted')
print(f'Recall: {recall}')

# F1-Score
f1 = f1_score(y_test, y_pred, average='weighted')
print(f'F1-Score: {f1}')

# Matriz de Confusão
conf_matrix = confusion_matrix(y_test, y_pred)
print(f'Matriz de Confusão:\n{conf_matrix}')



